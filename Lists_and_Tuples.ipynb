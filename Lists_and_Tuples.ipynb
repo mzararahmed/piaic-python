{
 "cells": [
  {
   "cell_type": "markdown",
   "metadata": {},
   "source": [
    "## List Functions"
   ]
  },
  {
   "cell_type": "code",
   "execution_count": 12,
   "metadata": {},
   "outputs": [],
   "source": [
    "names = [\"start\", \"end\", \"step\"]"
   ]
  },
  {
   "cell_type": "code",
   "execution_count": 10,
   "metadata": {},
   "outputs": [
    {
     "data": {
      "text/plain": [
       "['__add__',\n",
       " '__class__',\n",
       " '__contains__',\n",
       " '__delattr__',\n",
       " '__delitem__',\n",
       " '__dir__',\n",
       " '__doc__',\n",
       " '__eq__',\n",
       " '__format__',\n",
       " '__ge__',\n",
       " '__getattribute__',\n",
       " '__getitem__',\n",
       " '__gt__',\n",
       " '__hash__',\n",
       " '__iadd__',\n",
       " '__imul__',\n",
       " '__init__',\n",
       " '__init_subclass__',\n",
       " '__iter__',\n",
       " '__le__',\n",
       " '__len__',\n",
       " '__lt__',\n",
       " '__mul__',\n",
       " '__ne__',\n",
       " '__new__',\n",
       " '__reduce__',\n",
       " '__reduce_ex__',\n",
       " '__repr__',\n",
       " '__reversed__',\n",
       " '__rmul__',\n",
       " '__setattr__',\n",
       " '__setitem__',\n",
       " '__sizeof__',\n",
       " '__str__',\n",
       " '__subclasshook__',\n",
       " 'append',\n",
       " 'clear',\n",
       " 'copy',\n",
       " 'count',\n",
       " 'extend',\n",
       " 'index',\n",
       " 'insert',\n",
       " 'pop',\n",
       " 'remove',\n",
       " 'reverse',\n",
       " 'sort']"
      ]
     },
     "execution_count": 10,
     "metadata": {},
     "output_type": "execute_result"
    }
   ],
   "source": [
    "dir(names)"
   ]
  },
  {
   "cell_type": "code",
   "execution_count": 8,
   "metadata": {},
   "outputs": [
    {
     "name": "stdout",
     "output_type": "stream",
     "text": [
      "['start', 'end', 'step']\n"
     ]
    }
   ],
   "source": [
    "print(names)"
   ]
  },
  {
   "cell_type": "code",
   "execution_count": 13,
   "metadata": {},
   "outputs": [
    {
     "name": "stdout",
     "output_type": "stream",
     "text": [
      "['start', 'end', 'step', 'chal bay']\n"
     ]
    }
   ],
   "source": [
    "names.append(\"chal bay\")\n",
    "print(names)"
   ]
  },
  {
   "cell_type": "code",
   "execution_count": 11,
   "metadata": {},
   "outputs": [
    {
     "name": "stdout",
     "output_type": "stream",
     "text": [
      "[]\n"
     ]
    }
   ],
   "source": [
    "names.clear()\n",
    "print(names)"
   ]
  },
  {
   "cell_type": "code",
   "execution_count": 23,
   "metadata": {},
   "outputs": [
    {
     "name": "stdout",
     "output_type": "stream",
     "text": [
      "Original List: ['start', 'end', 'step', 'chal bay']\n",
      "Shallow-copied List: ['start', 'end', 'step', 'chal bay']\n"
     ]
    }
   ],
   "source": [
    "names1 = names              #shallow-copy\n",
    "print(\"Original List: \"+str(names))\n",
    "print(\"Shallow-copied List: \"+str(names1))"
   ]
  },
  {
   "cell_type": "code",
   "execution_count": 15,
   "metadata": {},
   "outputs": [
    {
     "name": "stdout",
     "output_type": "stream",
     "text": [
      "['start', 'end', 'step', 'chal bay']\n"
     ]
    }
   ],
   "source": [
    "new_list = names.copy()     #deep-copy\n",
    "print(new_list)"
   ]
  },
  {
   "cell_type": "code",
   "execution_count": 30,
   "metadata": {},
   "outputs": [
    {
     "name": "stdout",
     "output_type": "stream",
     "text": [
      "2\n"
     ]
    }
   ],
   "source": [
    "names = ['a', 'b', 'c', 'd', 'a', 'f']\n",
    "print(names.count(\"a\"))"
   ]
  },
  {
   "cell_type": "code",
   "execution_count": 32,
   "metadata": {},
   "outputs": [
    {
     "name": "stdout",
     "output_type": "stream",
     "text": [
      "None\n",
      "['w', 'x', 'y', 'z']\n",
      "['a', 'b', 'c', 'd', 'a', 'f', 'w', 'x', 'y', 'z', 'w', 'x', 'y', 'z']\n"
     ]
    }
   ],
   "source": [
    "name2 = ['w', 'x', 'y', 'z']\n",
    "miss = names.extend(name2)\n",
    "print(miss)\n",
    "print(name2)\n",
    "print(names)"
   ]
  },
  {
   "cell_type": "code",
   "execution_count": 42,
   "metadata": {},
   "outputs": [
    {
     "name": "stdout",
     "output_type": "stream",
     "text": [
      "-10\n",
      "4\n"
     ]
    }
   ],
   "source": [
    "print(\"-\"+str(len(names) - names.index('a', 1)))\n",
    "print(names.index('a', 1))"
   ]
  },
  {
   "cell_type": "code",
   "execution_count": 45,
   "metadata": {},
   "outputs": [
    {
     "name": "stdout",
     "output_type": "stream",
     "text": [
      "['C', 'B', 'A']\n",
      "['C', 'D', 'B', 'A']\n"
     ]
    }
   ],
   "source": [
    "names.clear()\n",
    "names.insert(0, 'A')\n",
    "names.insert(0, 'B')\n",
    "names.insert(0, 'C')\n",
    "print(names)\n",
    "names.insert(1, 'D')\n",
    "print(names)"
   ]
  },
  {
   "cell_type": "code",
   "execution_count": 46,
   "metadata": {},
   "outputs": [
    {
     "name": "stdout",
     "output_type": "stream",
     "text": [
      "['A', 'B', 'C']\n",
      "C\n",
      "['A', 'B']\n"
     ]
    }
   ],
   "source": [
    "l1 = ['A', 'B', 'C']\n",
    "print(l1)\n",
    "a = l1.pop()\n",
    "print(a)\n",
    "print(l1)"
   ]
  },
  {
   "cell_type": "code",
   "execution_count": 49,
   "metadata": {},
   "outputs": [
    {
     "name": "stdout",
     "output_type": "stream",
     "text": [
      "C\n",
      "['B', 'C']\n"
     ]
    }
   ],
   "source": [
    "l1 = ['A', 'B', 'C']\n",
    "a = del l1[0]\n",
    "print(a)\n",
    "print(l1)"
   ]
  },
  {
   "cell_type": "code",
   "execution_count": 52,
   "metadata": {},
   "outputs": [
    {
     "name": "stdout",
     "output_type": "stream",
     "text": [
      "B\n",
      "['A', 'C']\n"
     ]
    }
   ],
   "source": [
    "l1 = ['A', 'B', 'C']\n",
    "a = l1.pop(1)\n",
    "print(a)\n",
    "print(l1)"
   ]
  },
  {
   "cell_type": "code",
   "execution_count": 54,
   "metadata": {},
   "outputs": [
    {
     "name": "stdout",
     "output_type": "stream",
     "text": [
      "['b', 'c', 'd', 'a', 'f']\n"
     ]
    }
   ],
   "source": [
    "names = ['a', 'b', 'c', 'd', 'a', 'f']\n",
    "names.remove('a')\n",
    "print(names)"
   ]
  },
  {
   "cell_type": "code",
   "execution_count": 57,
   "metadata": {},
   "outputs": [
    {
     "name": "stdout",
     "output_type": "stream",
     "text": [
      "None\n",
      "['f', 'a', 'd', 'c', 'b', 'a']\n"
     ]
    }
   ],
   "source": [
    "names = ['a', 'b', 'c', 'd', 'a', 'f']\n",
    "l1 = names.reverse()\n",
    "print(l1)\n",
    "print(names)"
   ]
  },
  {
   "cell_type": "code",
   "execution_count": 61,
   "metadata": {},
   "outputs": [
    {
     "name": "stdout",
     "output_type": "stream",
     "text": [
      "['f', 'd', 'c', 'b', 'a', 'a']\n"
     ]
    }
   ],
   "source": [
    "names = ['a', 'b', 'c', 'd', 'a', 'f']\n",
    "names.sort(reverse = True)\n",
    "print(names)"
   ]
  },
  {
   "cell_type": "code",
   "execution_count": 65,
   "metadata": {},
   "outputs": [
    {
     "name": "stdout",
     "output_type": "stream",
     "text": [
      "['A', 'C', 'D']\n",
      "['A', 'B', 'C', 'F', 'E']\n",
      "['A', 'B', 'C']\n"
     ]
    }
   ],
   "source": [
    "l1 = ['A', 'B', 'C']\n",
    "print(['A'] + ['C', 'D'])\n",
    "print(l1.__add__(['F','E']))\n",
    "print(l1)"
   ]
  },
  {
   "cell_type": "code",
   "execution_count": 67,
   "metadata": {},
   "outputs": [
    {
     "data": {
      "text/plain": [
       "list"
      ]
     },
     "execution_count": 67,
     "metadata": {},
     "output_type": "execute_result"
    }
   ],
   "source": [
    "l1.__class__"
   ]
  },
  {
   "cell_type": "code",
   "execution_count": 68,
   "metadata": {},
   "outputs": [
    {
     "name": "stdout",
     "output_type": "stream",
     "text": [
      "True\n"
     ]
    }
   ],
   "source": [
    "print(l1.__contains__('A'))"
   ]
  },
  {
   "cell_type": "code",
   "execution_count": 70,
   "metadata": {},
   "outputs": [
    {
     "name": "stdout",
     "output_type": "stream",
     "text": [
      "True\n",
      "False\n"
     ]
    }
   ],
   "source": [
    "l1 = ['A', 'B', 'C']\n",
    "l2 = ['A', 'B', 'C']\n",
    "l3 = ['A', 'E', 'C']\n",
    "print(l1.__eq__(l2))\n",
    "print(l1.__eq__(l3))"
   ]
  },
  {
   "cell_type": "code",
   "execution_count": 81,
   "metadata": {},
   "outputs": [
    {
     "name": "stdout",
     "output_type": "stream",
     "text": [
      "True\n",
      "False\n",
      "False\n",
      "True\n"
     ]
    }
   ],
   "source": [
    "l1 = [5, 4, 3]\n",
    "l2 = [1, 2, 3]\n",
    "l3 = [7, 9, 18]\n",
    "print(l1.__ge__(l2))\n",
    "print(l1.__ge__(l3))\n",
    "print(l1.__le__(l2))\n",
    "print(l1.__le__(l3))"
   ]
  },
  {
   "cell_type": "code",
   "execution_count": 83,
   "metadata": {},
   "outputs": [
    {
     "data": {
      "text/plain": [
       "['pakistan',\n",
       " 'pakistan',\n",
       " 'pakistan',\n",
       " 'pakistan',\n",
       " 'pakistan',\n",
       " 'pakistan',\n",
       " 'pakistan',\n",
       " 'pakistan',\n",
       " 'pakistan',\n",
       " 'pakistan']"
      ]
     },
     "execution_count": 83,
     "metadata": {},
     "output_type": "execute_result"
    }
   ],
   "source": [
    "[\"pakistan\"] * 10"
   ]
  },
  {
   "cell_type": "markdown",
   "metadata": {},
   "source": [
    "# Loop"
   ]
  },
  {
   "cell_type": "markdown",
   "metadata": {},
   "source": [
    "#### counter\n",
    "#### Login\n",
    "#### increment / decrement"
   ]
  },
  {
   "cell_type": "markdown",
   "metadata": {},
   "source": [
    "###### 1.while\n",
    "###### 2. for"
   ]
  },
  {
   "cell_type": "code",
   "execution_count": 91,
   "metadata": {},
   "outputs": [
    {
     "name": "stdout",
     "output_type": "stream",
     "text": [
      "Pakistan 1\n",
      "Pakistan 2\n",
      "Pakistan 3\n",
      "Pakistan 4\n",
      "Pakistan 5\n",
      "Pakistan 6\n",
      "Pakistan 7\n",
      "Pakistan 8\n",
      "Pakistan 9\n",
      "Pakistan 10\n"
     ]
    }
   ],
   "source": [
    "counter = 1\n",
    "while counter <= 10:\n",
    "    print(\"Pakistan\", counter)\n",
    "    counter += 1"
   ]
  },
  {
   "cell_type": "code",
   "execution_count": 99,
   "metadata": {},
   "outputs": [
    {
     "name": "stdout",
     "output_type": "stream",
     "text": [
      "Pakistan 100\n",
      "Pakistan 99\n",
      "Pakistan 98\n",
      "Pakistan 97\n",
      "Pakistan 96\n",
      "Pakistan 95\n",
      "Pakistan 94\n",
      "Pakistan 93\n",
      "Pakistan 92\n",
      "Pakistan 91\n",
      "Pakistan 90\n"
     ]
    }
   ],
   "source": [
    "counter = 100\n",
    "while counter >= 90:\n",
    "    print(\"Pakistan\", counter)\n",
    "    counter -= 1"
   ]
  },
  {
   "cell_type": "markdown",
   "metadata": {},
   "source": [
    "#### for (count: logic: increment)  // Old methods of \"for\" looping"
   ]
  },
  {
   "cell_type": "code",
   "execution_count": 96,
   "metadata": {},
   "outputs": [
    {
     "name": "stdout",
     "output_type": "stream",
     "text": [
      "Pakistan 1\n",
      "Pakistan 2\n",
      "Pakistan 3\n",
      "Pakistan 4\n",
      "Pakistan 5\n",
      "Pakistan 6\n",
      "Pakistan 7\n",
      "Pakistan 8\n",
      "Pakistan 9\n",
      "Pakistan 10\n"
     ]
    }
   ],
   "source": [
    "for i in range(1, 11):\n",
    "    print(\"Pakistan\", i)"
   ]
  },
  {
   "cell_type": "code",
   "execution_count": 97,
   "metadata": {},
   "outputs": [
    {
     "name": "stdout",
     "output_type": "stream",
     "text": [
      "2\n",
      "3\n",
      "5\n",
      "7\n",
      "11\n",
      "13\n",
      "17\n",
      "23\n"
     ]
    }
   ],
   "source": [
    "primes = [2, 3, 5,7, 11, 13, 17, 23]\n",
    "for prime in primes:\n",
    "    print(prime)"
   ]
  },
  {
   "cell_type": "markdown",
   "metadata": {},
   "source": [
    "##### List Comprehensive"
   ]
  },
  {
   "cell_type": "code",
   "execution_count": 103,
   "metadata": {},
   "outputs": [
    {
     "data": {
      "text/plain": [
       "['Pakistan: 2',\n",
       " 'Pakistan: 3',\n",
       " 'Pakistan: 5',\n",
       " 'Pakistan: 7',\n",
       " 'Pakistan: 11',\n",
       " 'Pakistan: 13',\n",
       " 'Pakistan: 17',\n",
       " 'Pakistan: 23']"
      ]
     },
     "execution_count": 103,
     "metadata": {},
     "output_type": "execute_result"
    }
   ],
   "source": [
    "[\"Pakistan: \" + str(x) for x in primes]"
   ]
  },
  {
   "cell_type": "markdown",
   "metadata": {},
   "source": [
    "# Tuple"
   ]
  },
  {
   "cell_type": "code",
   "execution_count": 105,
   "metadata": {},
   "outputs": [
    {
     "name": "stdout",
     "output_type": "stream",
     "text": [
      "2  X  1  =  2\n",
      "2  X  2  =  4\n",
      "2  X  3  =  6\n",
      "2  X  4  =  8\n",
      "2  X  5  =  10\n",
      "2  X  6  =  12\n",
      "2  X  7  =  14\n",
      "2  X  8  =  16\n",
      "2  X  9  =  18\n",
      "2  X  10  =  20\n"
     ]
    }
   ],
   "source": [
    "for i in range(1, 11):\n",
    "    print(2, \" X \", i , \" = \", 2*i)"
   ]
  },
  {
   "cell_type": "code",
   "execution_count": 107,
   "metadata": {},
   "outputs": [
    {
     "name": "stdout",
     "output_type": "stream",
     "text": [
      "2 X 1 = 2\n",
      "2 X 2 = 4\n",
      "2 X 3 = 6\n",
      "2 X 4 = 8\n",
      "2 X 5 = 10\n",
      "2 X 6 = 12\n",
      "2 X 7 = 14\n",
      "2 X 8 = 16\n",
      "2 X 9 = 18\n",
      "2 X 10 = 20\n"
     ]
    }
   ],
   "source": [
    "for i in range(1, 11):\n",
    "    print(\"2 X \" + str(i) + \" = \" + str(2*i))"
   ]
  },
  {
   "cell_type": "code",
   "execution_count": 109,
   "metadata": {},
   "outputs": [
    {
     "data": {
      "text/plain": [
       "['2 X 1 = 2',\n",
       " '2 X 2 = 4',\n",
       " '2 X 3 = 6',\n",
       " '2 X 4 = 8',\n",
       " '2 X 5 = 10',\n",
       " '2 X 6 = 12',\n",
       " '2 X 7 = 14',\n",
       " '2 X 8 = 16',\n",
       " '2 X 9 = 18',\n",
       " '2 X 10 = 20']"
      ]
     },
     "execution_count": 109,
     "metadata": {},
     "output_type": "execute_result"
    }
   ],
   "source": [
    "[\"2 X \" + str(i) + \" = \" + str(2*i) for i in range(1, 11)]"
   ]
  },
  {
   "cell_type": "code",
   "execution_count": 111,
   "metadata": {},
   "outputs": [
    {
     "data": {
      "text/plain": [
       "2"
      ]
     },
     "execution_count": 111,
     "metadata": {},
     "output_type": "execute_result"
    }
   ],
   "source": [
    "a = (1,2,3,2,1)\n",
    "a.count(1)"
   ]
  },
  {
   "cell_type": "code",
   "execution_count": 113,
   "metadata": {},
   "outputs": [
    {
     "data": {
      "text/plain": [
       "2"
      ]
     },
     "execution_count": 113,
     "metadata": {},
     "output_type": "execute_result"
    }
   ],
   "source": [
    "a.index(3)"
   ]
  },
  {
   "cell_type": "markdown",
   "metadata": {},
   "source": [
    "## gather name, fathername, contact,  add it to list.....ask if you want to add more values until prompted to do so."
   ]
  },
  {
   "cell_type": "code",
   "execution_count": 120,
   "metadata": {},
   "outputs": [
    {
     "name": "stdout",
     "output_type": "stream",
     "text": [
      "Welcome, Enter First user's name\n",
      "Name: qwer\n",
      "Father's name: qwert\n",
      "Contact no: qwert\n",
      "Continue or end Y/N: N\n",
      "[['qwer', 'qwert', 'qwert']]\n"
     ]
    }
   ],
   "source": [
    "prompt = \"Y\"\n",
    "print(\"Welcome, Enter First user's name\")\n",
    "l1 = []\n",
    "while prompt == \"Y\":\n",
    "    a = input(\"Name: \")\n",
    "    b = input(\"Father's name: \")\n",
    "    c = input(\"Contact no: \")\n",
    "    current_info = [a, b, c]\n",
    "    l1.append(current_info)\n",
    "    prompt = input(\"Continue or end Y/N: \")\n",
    "print(l1)"
   ]
  },
  {
   "cell_type": "markdown",
   "metadata": {},
   "source": [
    "## 990-1000 in reverse using for and while loop"
   ]
  },
  {
   "cell_type": "code",
   "execution_count": 133,
   "metadata": {},
   "outputs": [
    {
     "name": "stdout",
     "output_type": "stream",
     "text": [
      "1000\n",
      "999\n",
      "998\n",
      "997\n",
      "996\n",
      "995\n",
      "994\n",
      "993\n",
      "992\n",
      "991\n",
      "990\n"
     ]
    }
   ],
   "source": [
    "for i in range(1000, 989, -1):\n",
    "    print(i)"
   ]
  },
  {
   "cell_type": "code",
   "execution_count": 127,
   "metadata": {},
   "outputs": [
    {
     "name": "stdout",
     "output_type": "stream",
     "text": [
      "1000\n",
      "999\n",
      "998\n",
      "997\n",
      "996\n",
      "995\n",
      "994\n",
      "993\n",
      "992\n",
      "991\n",
      "990\n"
     ]
    }
   ],
   "source": [
    "counter = 1000\n",
    "while counter >= 990:\n",
    "    print(counter)\n",
    "    counter -= 1"
   ]
  },
  {
   "cell_type": "code",
   "execution_count": 6,
   "metadata": {},
   "outputs": [
    {
     "data": {
      "text/plain": [
       "['0    H    `',\n",
       " '1    I    a',\n",
       " '2    J    b',\n",
       " '3    K    c',\n",
       " '4    L    d',\n",
       " '5    M    e',\n",
       " '6    N    f',\n",
       " '7    O    g',\n",
       " '8    P    h']"
      ]
     },
     "execution_count": 6,
     "metadata": {},
     "output_type": "execute_result"
    }
   ],
   "source": [
    "[str(chr(x)) + \"    \" + str(chr(x + 24)) + \"    \" + str(chr(x + 48)) for x in range(48, 57)]"
   ]
  },
  {
   "cell_type": "markdown",
   "metadata": {},
   "source": [
    "### print tables ( from 1 to given number ) in a tabular format"
   ]
  },
  {
   "cell_type": "code",
   "execution_count": 4,
   "metadata": {},
   "outputs": [
    {
     "name": "stdout",
     "output_type": "stream",
     "text": [
      "enter your range: 4\n",
      "1 X 1 = 1\t\t 1 X 2 = 2\t\t 1 X 3 = 3\t\t 1 X 4 = 4\t\t \n",
      "2 X 1 = 2\t\t 2 X 2 = 4\t\t 2 X 3 = 6\t\t 2 X 4 = 8\t\t \n",
      "3 X 1 = 3\t\t 3 X 2 = 6\t\t 3 X 3 = 9\t\t 3 X 4 = 12\t\t \n",
      "4 X 1 = 4\t\t 4 X 2 = 8\t\t 4 X 3 = 12\t\t 4 X 4 = 16\t\t \n",
      "5 X 1 = 5\t\t 5 X 2 = 10\t\t 5 X 3 = 15\t\t 5 X 4 = 20\t\t \n",
      "6 X 1 = 6\t\t 6 X 2 = 12\t\t 6 X 3 = 18\t\t 6 X 4 = 24\t\t \n",
      "7 X 1 = 7\t\t 7 X 2 = 14\t\t 7 X 3 = 21\t\t 7 X 4 = 28\t\t \n",
      "8 X 1 = 8\t\t 8 X 2 = 16\t\t 8 X 3 = 24\t\t 8 X 4 = 32\t\t \n",
      "9 X 1 = 9\t\t 9 X 2 = 18\t\t 9 X 3 = 27\t\t 9 X 4 = 36\t\t \n",
      "10 X 1 = 10\t\t 10 X 2 = 20\t\t 10 X 3 = 30\t\t 10 X 4 = 40\t\t \n"
     ]
    }
   ],
   "source": [
    "lastrange = input(\"enter your range: \")\n",
    "lastrange = int(lastrange)\n",
    "for i in range(1, 11):\n",
    "    for j in range(1, lastrange +1):\n",
    "        print(str(i) + \" X \" + str(j) + \" = \" + str(i*j), end = \"\\t\\t \")\n",
    "    print()"
   ]
  },
  {
   "cell_type": "markdown",
   "metadata": {},
   "source": [
    "### return row and column number of every element that is divisible by 5"
   ]
  },
  {
   "cell_type": "code",
   "execution_count": 162,
   "metadata": {},
   "outputs": [
    {
     "name": "stdout",
     "output_type": "stream",
     "text": [
      "(0, 1) 5 \n",
      "(1, 2) 10 \n",
      "(2, 0) 20 (2, 1) 30 \n",
      "(3, 0) 35 (3, 2) 20 \n"
     ]
    }
   ],
   "source": [
    "a = [[2,5,9], [8,9,10], [20,30,27], [35,9,20]]\n",
    "for ri, r in enumerate(a):\n",
    "    for ci, c in enumerate(r):\n",
    "        if(c % 5 == 0):\n",
    "            print((ri,ci),c, end =\" \")\n",
    "    print()"
   ]
  },
  {
   "cell_type": "markdown",
   "metadata": {},
   "source": [
    "## in 1 - 1000... print all number all numbers divisible by 5, 7 or 20"
   ]
  },
  {
   "cell_type": "code",
   "execution_count": 1,
   "metadata": {},
   "outputs": [
    {
     "name": "stdout",
     "output_type": "stream",
     "text": [
      "5\n",
      "7\n",
      "10\n",
      "14\n",
      "15\n",
      "20\n",
      "21\n",
      "25\n",
      "28\n",
      "30\n",
      "35\n",
      "40\n",
      "42\n",
      "45\n",
      "49\n",
      "50\n",
      "55\n",
      "56\n",
      "60\n",
      "63\n",
      "65\n",
      "70\n",
      "75\n",
      "77\n",
      "80\n",
      "84\n",
      "85\n",
      "90\n",
      "91\n",
      "95\n",
      "98\n",
      "100\n",
      "105\n",
      "110\n",
      "112\n",
      "115\n",
      "119\n",
      "120\n",
      "125\n",
      "126\n",
      "130\n",
      "133\n",
      "135\n",
      "140\n",
      "145\n",
      "147\n",
      "150\n",
      "154\n",
      "155\n",
      "160\n",
      "161\n",
      "165\n",
      "168\n",
      "170\n",
      "175\n",
      "180\n",
      "182\n",
      "185\n",
      "189\n",
      "190\n",
      "195\n",
      "196\n",
      "200\n",
      "203\n",
      "205\n",
      "210\n",
      "215\n",
      "217\n",
      "220\n",
      "224\n",
      "225\n",
      "230\n",
      "231\n",
      "235\n",
      "238\n",
      "240\n",
      "245\n",
      "250\n",
      "252\n",
      "255\n",
      "259\n",
      "260\n",
      "265\n",
      "266\n",
      "270\n",
      "273\n",
      "275\n",
      "280\n",
      "285\n",
      "287\n",
      "290\n",
      "294\n",
      "295\n",
      "300\n",
      "301\n",
      "305\n",
      "308\n",
      "310\n",
      "315\n",
      "320\n",
      "322\n",
      "325\n",
      "329\n",
      "330\n",
      "335\n",
      "336\n",
      "340\n",
      "343\n",
      "345\n",
      "350\n",
      "355\n",
      "357\n",
      "360\n",
      "364\n",
      "365\n",
      "370\n",
      "371\n",
      "375\n",
      "378\n",
      "380\n",
      "385\n",
      "390\n",
      "392\n",
      "395\n",
      "399\n",
      "400\n",
      "405\n",
      "406\n",
      "410\n",
      "413\n",
      "415\n",
      "420\n",
      "425\n",
      "427\n",
      "430\n",
      "434\n",
      "435\n",
      "440\n",
      "441\n",
      "445\n",
      "448\n",
      "450\n",
      "455\n",
      "460\n",
      "462\n",
      "465\n",
      "469\n",
      "470\n",
      "475\n",
      "476\n",
      "480\n",
      "483\n",
      "485\n",
      "490\n",
      "495\n",
      "497\n",
      "500\n",
      "504\n",
      "505\n",
      "510\n",
      "511\n",
      "515\n",
      "518\n",
      "520\n",
      "525\n",
      "530\n",
      "532\n",
      "535\n",
      "539\n",
      "540\n",
      "545\n",
      "546\n",
      "550\n",
      "553\n",
      "555\n",
      "560\n",
      "565\n",
      "567\n",
      "570\n",
      "574\n",
      "575\n",
      "580\n",
      "581\n",
      "585\n",
      "588\n",
      "590\n",
      "595\n",
      "600\n",
      "602\n",
      "605\n",
      "609\n",
      "610\n",
      "615\n",
      "616\n",
      "620\n",
      "623\n",
      "625\n",
      "630\n",
      "635\n",
      "637\n",
      "640\n",
      "644\n",
      "645\n",
      "650\n",
      "651\n",
      "655\n",
      "658\n",
      "660\n",
      "665\n",
      "670\n",
      "672\n",
      "675\n",
      "679\n",
      "680\n",
      "685\n",
      "686\n",
      "690\n",
      "693\n",
      "695\n",
      "700\n",
      "705\n",
      "707\n",
      "710\n",
      "714\n",
      "715\n",
      "720\n",
      "721\n",
      "725\n",
      "728\n",
      "730\n",
      "735\n",
      "740\n",
      "742\n",
      "745\n",
      "749\n",
      "750\n",
      "755\n",
      "756\n",
      "760\n",
      "763\n",
      "765\n",
      "770\n",
      "775\n",
      "777\n",
      "780\n",
      "784\n",
      "785\n",
      "790\n",
      "791\n",
      "795\n",
      "798\n",
      "800\n",
      "805\n",
      "810\n",
      "812\n",
      "815\n",
      "819\n",
      "820\n",
      "825\n",
      "826\n",
      "830\n",
      "833\n",
      "835\n",
      "840\n",
      "845\n",
      "847\n",
      "850\n",
      "854\n",
      "855\n",
      "860\n",
      "861\n",
      "865\n",
      "868\n",
      "870\n",
      "875\n",
      "880\n",
      "882\n",
      "885\n",
      "889\n",
      "890\n",
      "895\n",
      "896\n",
      "900\n",
      "903\n",
      "905\n",
      "910\n",
      "915\n",
      "917\n",
      "920\n",
      "924\n",
      "925\n",
      "930\n",
      "931\n",
      "935\n",
      "938\n",
      "940\n",
      "945\n",
      "950\n",
      "952\n",
      "955\n",
      "959\n",
      "960\n",
      "965\n",
      "966\n",
      "970\n",
      "973\n",
      "975\n",
      "980\n",
      "985\n",
      "987\n",
      "990\n",
      "994\n",
      "995\n",
      "1000\n"
     ]
    }
   ],
   "source": [
    "for i in range(1, 1001):\n",
    "    if(i%5== 0 or i%7 == 0 or i%20 == 0):\n",
    "        print(i)"
   ]
  },
  {
   "cell_type": "markdown",
   "metadata": {},
   "source": [
    "## Marketing Case"
   ]
  },
  {
   "cell_type": "code",
   "execution_count": 3,
   "metadata": {},
   "outputs": [
    {
     "name": "stdout",
     "output_type": "stream",
     "text": [
      "Initiator was(boy, friend or girl): girl\n",
      "That's brand recognition\n"
     ]
    }
   ],
   "source": [
    "initiator = input(\"Initiator was(boy, friend or girl): \")\n",
    "if(initiator == 'boy'):\n",
    "    slap = input(\"slapped? y/n: \")\n",
    "    if(slap == \"y\" or slap == \"Y\"):\n",
    "        print(\"That's customer Feedback\")\n",
    "    else:\n",
    "        husband = input(\"Introduced to husband y/n: \")\n",
    "        if(husband == \"y\" or husband == \"Y\"):\n",
    "            print(\"That's demand and supply gap\")\n",
    "        else:\n",
    "            print(\"That's direct marketing\")\n",
    "elif(initiator == 'friend'):\n",
    "    print(\"That's advertising\")\n",
    "elif(initiator == \"girl\"):\n",
    "    print(\"That's brand recognition\")\n",
    "else:\n",
    "    print(\"Not allowed to enter other markets\")"
   ]
  }
 ],
 "metadata": {
  "kernelspec": {
   "display_name": "Python 3",
   "language": "python",
   "name": "python3"
  },
  "language_info": {
   "codemirror_mode": {
    "name": "ipython",
    "version": 3
   },
   "file_extension": ".py",
   "mimetype": "text/x-python",
   "name": "python",
   "nbconvert_exporter": "python",
   "pygments_lexer": "ipython3",
   "version": "3.7.4"
  }
 },
 "nbformat": 4,
 "nbformat_minor": 2
}
